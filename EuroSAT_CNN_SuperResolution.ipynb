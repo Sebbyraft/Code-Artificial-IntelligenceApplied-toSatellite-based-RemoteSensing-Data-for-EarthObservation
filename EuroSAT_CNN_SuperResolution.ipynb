{
  "cells": [
    {
      "cell_type": "markdown",
      "metadata": {
        "id": "cF9IVw5yaJT3"
      },
      "source": [
        "# Sentinel-2 Autoencoder"
      ]
    },
    {
      "cell_type": "markdown",
      "metadata": {
        "id": "1eWebtPlyyQs"
      },
      "source": [
        "## Download the EuroSAT dataset\n",
        "\n",
        "\n",
        "[EuroSAT dataset](https://github.com/phelber/EuroSAT)\n",
        "![](https://raw.githubusercontent.com/phelber/EuroSAT/master/eurosat_overview_small.jpg)\n"
      ]
    },
    {
      "cell_type": "markdown",
      "metadata": {
        "id": "XMuS6T6QzU3i"
      },
      "source": [
        "Download the dataset"
      ]
    },
    {
      "cell_type": "code",
      "execution_count": null,
      "metadata": {
        "colab": {
          "base_uri": "https://localhost:8080/"
        },
        "id": "gGytr7JbyMWc",
        "outputId": "baedfa01-4b61-4ccc-f28d-713580a2cafa"
      },
      "outputs": [],
      "source": [
        "import requests\n",
        "\n",
        "url =  'http://madm.dfki.de/files/sentinel/EuroSAT.zip'\n",
        "r = requests.get(url, allow_redirects=True)\n",
        "open('EuroSAT.zip', 'wb').write(r.content)"
      ]
    },
    {
      "cell_type": "markdown",
      "metadata": {
        "id": "0vdRh1hlzbdE"
      },
      "source": [
        "Unzip the dataset"
      ]
    },
    {
      "cell_type": "code",
      "execution_count": null,
      "metadata": {
        "colab": {
          "base_uri": "https://localhost:8080/"
        },
        "id": "gwNVhl-BysZO",
        "outputId": "cc0a30b3-026f-4b76-ec24-a8bca8a302a2"
      },
      "outputs": [],
      "source": [
        "!unzip '/content/EuroSAT.zip'"
      ]
    },
    {
      "cell_type": "markdown",
      "metadata": {
        "id": "M0O9s4bI1beV"
      },
      "source": [
        "Rename the folder"
      ]
    },
    {
      "cell_type": "code",
      "execution_count": null,
      "metadata": {
        "id": "cbcPnrFDzk5Q"
      },
      "outputs": [],
      "source": [
        "!mv '/content/2750' '/content/EuroSAT'"
      ]
    },
    {
      "cell_type": "markdown",
      "metadata": {
        "id": "F2HSL7WEagL9"
      },
      "source": [
        "Count images in the dataset"
      ]
    },
    {
      "cell_type": "code",
      "execution_count": null,
      "metadata": {
        "colab": {
          "base_uri": "https://localhost:8080/"
        },
        "id": "Mw2vSKDGaftT",
        "outputId": "2fd442b9-f020-415a-db4d-72c6f82ae1ee"
      },
      "outputs": [],
      "source": [
        "import glob\n",
        "\n",
        "paths = glob.glob('/content/EuroSAT/*/*')\n",
        "print('Number of images {}/27000'.format(len(paths)))"
      ]
    },
    {
      "cell_type": "markdown",
      "metadata": {
        "id": "t6GxK7B3a9cj"
      },
      "source": [
        "## Image Data Generator "
      ]
    },
    {
      "cell_type": "code",
      "execution_count": null,
      "metadata": {
        "colab": {
          "base_uri": "https://localhost:8080/"
        },
        "id": "TceOwOsa0zii",
        "outputId": "573d61a9-b7db-4dc0-8292-1d077f156bbf"
      },
      "outputs": [],
      "source": [
        "from tensorflow.keras.preprocessing import image_dataset_from_directory\n",
        "import cv2\n",
        "import numpy as np\n",
        "\n",
        "batch_size = 16\n",
        "root_dir = '/content/EuroSAT'\n",
        "crop_size = 64\n",
        "upscale_factor = 2\n",
        "input_size = crop_size // upscale_factor\n",
        "\n",
        "train_ds = image_dataset_from_directory(\n",
        "    root_dir,\n",
        "    batch_size=batch_size,\n",
        "    image_size=(crop_size, crop_size),\n",
        "    validation_split=0.2,\n",
        "    subset=\"training\",\n",
        "    color_mode=\"rgb\",\n",
        "    seed=1337,\n",
        "    label_mode=None,\n",
        ")\n",
        "\n",
        "valid_ds = image_dataset_from_directory(\n",
        "    root_dir,\n",
        "    batch_size=batch_size,\n",
        "    image_size=(crop_size, crop_size),\n",
        "    validation_split=0.2,\n",
        "    subset=\"validation\",\n",
        "    color_mode=\"rgb\",\n",
        "    seed=1337,\n",
        "    label_mode=None,\n",
        ")"
      ]
    },
    {
      "cell_type": "code",
      "execution_count": null,
      "metadata": {
        "id": "kd_btCy-LSwQ"
      },
      "outputs": [],
      "source": [
        "import tensorflow as tf\n",
        "\n",
        "# Use TF Ops to process.\n",
        "def process_input(input, input_size, crop_size, upscale_factor):\n",
        "    input = tf.image.rgb_to_yuv(input)\n",
        "    last_dimension_axis = len(input.shape) - 1\n",
        "    y, u, v = tf.split(input, 3, axis=last_dimension_axis)\n",
        "\n",
        "    y = tf.image.resize(y, [input_size, input_size], method=\"nearest\")\n",
        "    y = tf.image.resize(y, [crop_size, crop_size], method=\"nearest\")\n",
        "\n",
        "    return y\n",
        "\n",
        "def process_target(input):\n",
        "    input = tf.image.rgb_to_yuv(input)\n",
        "    last_dimension_axis = len(input.shape) - 1\n",
        "    y, u, v = tf.split(input, 3, axis=last_dimension_axis)\n",
        "    return y\n",
        "\n",
        "def scaling(input_image):\n",
        "    input_image = input_image / 255.0\n",
        "    return input_image\n",
        "\n",
        "# Scale from (0, 255) to (0, 1)\n",
        "train_ds = train_ds.map(scaling)\n",
        "valid_ds = valid_ds.map(scaling)\n",
        "\n",
        "train_ds = train_ds.map(\n",
        "    lambda x: (process_input(x, input_size, crop_size, upscale_factor), process_target(x))\n",
        ")\n",
        "train_ds = train_ds.prefetch(buffer_size=32)\n",
        "\n",
        "valid_ds = valid_ds.map(\n",
        "    lambda x: (process_input(x, input_size, crop_size, upscale_factor), process_target(x))\n",
        ")\n",
        "valid_ds = valid_ds.prefetch(buffer_size=32)"
      ]
    },
    {
      "cell_type": "markdown",
      "metadata": {
        "id": "6Vi7ECZPbMAz"
      },
      "source": [
        "Generate some exaples"
      ]
    },
    {
      "cell_type": "code",
      "execution_count": null,
      "metadata": {
        "colab": {
          "base_uri": "https://localhost:8080/"
        },
        "id": "yXvlrAIVbLas",
        "outputId": "5ecb0161-7da6-451b-a71b-9547a7dbb651"
      },
      "outputs": [],
      "source": [
        "x,y = next(iter(train_ds))\n",
        "print('x shape {}'.format(x.shape))\n",
        "print('y shape {}'.format(y.shape))"
      ]
    },
    {
      "cell_type": "markdown",
      "metadata": {
        "id": "fw6Ktf0ibCCE"
      },
      "source": [
        "Plot some examples"
      ]
    },
    {
      "cell_type": "code",
      "execution_count": null,
      "metadata": {
        "colab": {
          "base_uri": "https://localhost:8080/",
          "height": 1000
        },
        "id": "cvxkJCftbBkB",
        "outputId": "4a690c59-2e9c-4e5b-e20b-083c628d1371"
      },
      "outputs": [],
      "source": [
        "import matplotlib.pyplot as plt\n",
        "import numpy as np\n",
        "\n",
        "\n",
        "for i in range(batch_size):\n",
        "\n",
        "  fig, axes = plt.subplots(nrows = 1, ncols = 2, figsize = (10,5))\n",
        "  axes[0].imshow(x[i,:,:,0].numpy())\n",
        "  axes[0].axis(False)\n",
        "  axes[0].set_title('Downsample')\n",
        "\n",
        "  axes[1].imshow(y[i,:,:,0].numpy())\n",
        "  axes[1].axis(False)\n",
        "  axes[1].set_title('Original Size')\n",
        "  \n",
        "  fig.tight_layout()\n",
        "  plt.show()\n",
        "  plt.close()\n"
      ]
    },
    {
      "cell_type": "markdown",
      "metadata": {
        "id": "L2vZp5NseJUb"
      },
      "source": [
        "## Define the Autoencoder\n"
      ]
    },
    {
      "cell_type": "code",
      "execution_count": null,
      "metadata": {
        "id": "0dZgTiIBwEPx"
      },
      "outputs": [],
      "source": [
        "from re import X\n",
        "from tensorflow.keras.models import Model\n",
        "from tensorflow.keras.layers import Conv2D, MaxPooling2D, Input, UpSampling2D\n",
        "\n",
        "\n",
        "model = None\n",
        "input_img = Input(shape=(64, 64, 1)) \n",
        "\n",
        "x = Conv2D(filters=64, kernel_size=(3, 3), activation='relu', padding='same')(input_img)\n",
        "x = MaxPooling2D(pool_size=(2, 2), padding='same')(x)\n",
        "x = Conv2D(filters=128, kernel_size=(3, 3), activation='relu', padding='same')(x)\n",
        "x = MaxPooling2D(pool_size=(2, 2), padding='same')(x)\n",
        "x = Conv2D(filters=256, kernel_size=(3, 3), activation='relu', padding='same')(x)\n",
        "x = MaxPooling2D(pool_size=(2, 2), padding='same')(x)\n",
        "\n",
        "x = Conv2D(filters=256, kernel_size=(3, 3), activation='relu', padding='same')(x)\n",
        "x = UpSampling2D(size=(2, 2))(x)\n",
        "x = Conv2D(filters=128, kernel_size=(3, 3), activation='relu', padding='same')(x)\n",
        "x = UpSampling2D(size=(2, 2))(x)\n",
        "x = Conv2D(filters=64, kernel_size=(3, 3), activation='relu', padding='same')(x)\n",
        "x = UpSampling2D(size=(2, 2))(x)\n",
        "\n",
        "x = Conv2D(filters=1, kernel_size=(3, 3), activation='sigmoid', padding='same')(x)\n",
        "\n",
        "model = Model(input_img, x)"
      ]
    },
    {
      "cell_type": "markdown",
      "metadata": {
        "id": "u_72ZdIDgdUX"
      },
      "source": [
        "Compile the model"
      ]
    },
    {
      "cell_type": "code",
      "execution_count": null,
      "metadata": {
        "id": "oeAQh00QgdrW"
      },
      "outputs": [],
      "source": [
        "from tensorflow.keras.optimizers import Adam, SGD\n",
        "\n",
        "model.compile(loss='mse', optimizer=Adam(), metrics=['mae'])"
      ]
    },
    {
      "cell_type": "markdown",
      "metadata": {
        "id": "cjubqFOWfCNK"
      },
      "source": [
        "Print model configuration"
      ]
    },
    {
      "cell_type": "code",
      "execution_count": null,
      "metadata": {
        "colab": {
          "base_uri": "https://localhost:8080/"
        },
        "id": "x0jnhaN9wEAp",
        "outputId": "e21fd05d-de4d-4034-ac90-ec548968ad11"
      },
      "outputs": [],
      "source": [
        "model.summary()"
      ]
    },
    {
      "cell_type": "markdown",
      "metadata": {
        "id": "mHWWXVXtgWUm"
      },
      "source": [
        "## Train the autoencoder"
      ]
    },
    {
      "cell_type": "code",
      "execution_count": null,
      "metadata": {
        "colab": {
          "base_uri": "https://localhost:8080/"
        },
        "id": "4CkhxnMQe4pI",
        "outputId": "62b87074-39f7-4e03-ec98-eee7291daceb"
      },
      "outputs": [],
      "source": [
        "history = model.fit(\n",
        "    train_ds,\n",
        "    steps_per_epoch = len(train_ds.enumerate()),\n",
        "    validation_data = valid_ds,\n",
        "    validation_steps = len(valid_ds.enumerate()),\n",
        "    epochs = 30\n",
        ")"
      ]
    },
    {
      "cell_type": "markdown",
      "metadata": {
        "id": "a9JFokLtnUWh"
      },
      "source": [
        "Plot training history"
      ]
    },
    {
      "cell_type": "code",
      "execution_count": null,
      "metadata": {
        "colab": {
          "base_uri": "https://localhost:8080/",
          "height": 369
        },
        "id": "P1fIwSAkh9r8",
        "outputId": "2275278e-e2ef-4b8b-d85a-d4f035bb1e95"
      },
      "outputs": [],
      "source": [
        "fig, axes = plt.subplots(nrows = 1, ncols = 2, figsize = (10,5))\n",
        "\n",
        "axes[0].plot(history.history['loss'], '-*', label = 'Training')\n",
        "axes[0].plot(history.history['val_loss'], '-o', label = 'Validtion')\n",
        "axes[0].set_ylabel('Mean Squared Error')\n",
        "axes[0].set_xlabel('Epochs')\n",
        "axes[0].set_title('Model MSE over epochs')\n",
        "\n",
        "axes[1].plot(history.history['mae'], '-*', label = 'Training')\n",
        "axes[1].plot(history.history['val_mae'], '-o', label = 'Validtion')\n",
        "axes[1].set_ylabel('Mean Absolute Error')\n",
        "axes[1].set_xlabel('Epochs')\n",
        "axes[1].set_title('Model MAE over epochs')\n",
        "\n",
        "fig.tight_layout()\n",
        "plt.show()"
      ]
    },
    {
      "cell_type": "markdown",
      "metadata": {
        "id": "BJbBclnjqQqf"
      },
      "source": [
        "## Evaluate Results"
      ]
    },
    {
      "cell_type": "code",
      "execution_count": null,
      "metadata": {
        "id": "aRXmFO9Xp6mo"
      },
      "outputs": [],
      "source": [
        "x, y = next(iter(valid_ds))\n",
        "y_pred = model.predict(x)"
      ]
    },
    {
      "cell_type": "code",
      "execution_count": null,
      "metadata": {
        "colab": {
          "base_uri": "https://localhost:8080/",
          "height": 1000
        },
        "id": "YPrrQWgzuDhD",
        "outputId": "6971efb5-f5bd-41c9-d836-04958a922b97"
      },
      "outputs": [],
      "source": [
        "for i in range(batch_size):\n",
        "  print('\\t --------------------------- Batch {} ---------------------------'.format(i))\n",
        "\n",
        "  fig, axes = plt.subplots(nrows = 1, ncols = 3, figsize = (15,5))\n",
        "  axes[0].imshow(x[i,:,:,0])\n",
        "  axes[0].axis(False)\n",
        "  axes[0].set_title('Sentinel-2\\n (Input)')\n",
        "\n",
        "  axes[1].imshow(y[i,:,:,0])\n",
        "  axes[1].axis(False)\n",
        "  axes[1].set_title('Sentinel-2\\n (Ground Truth)')\n",
        "\n",
        "  axes[2].imshow(y_pred[i,:,:,0 ])\n",
        "  axes[2].axis(False)\n",
        "  axes[2].set_title('Sentinel-2\\n (Autoencoder x2)')\n",
        "\n",
        "  fig.tight_layout()\n",
        "  plt.show()\n",
        "  plt.close()"
      ]
    },
    {
      "cell_type": "code",
      "execution_count": null,
      "metadata": {
        "id": "HlzFZ2ZtSQC7"
      },
      "outputs": [],
      "source": []
    }
  ],
  "metadata": {
    "accelerator": "GPU",
    "colab": {
      "collapsed_sections": [],
      "name": "EuroSAT-CNN-SuperResolution.ipynb",
      "provenance": []
    },
    "kernelspec": {
      "display_name": "Python 3",
      "name": "python3"
    },
    "language_info": {
      "name": "python"
    }
  },
  "nbformat": 4,
  "nbformat_minor": 0
}
