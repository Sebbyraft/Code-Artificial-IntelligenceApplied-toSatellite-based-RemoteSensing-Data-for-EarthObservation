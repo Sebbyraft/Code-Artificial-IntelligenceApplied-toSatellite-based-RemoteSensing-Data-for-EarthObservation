{
  "cells": [
    {
      "cell_type": "markdown",
      "metadata": {
        "id": "cF9IVw5yaJT3"
      },
      "source": [
        "# Sentinel-2 Autoencoder and Clustering"
      ]
    },
    {
      "cell_type": "markdown",
      "metadata": {
        "id": "1eWebtPlyyQs"
      },
      "source": [
        "## Download the EuroSAT dataset\n",
        "\n",
        "\n",
        "[EuroSAT dataset](https://github.com/phelber/EuroSAT)\n",
        "![](https://raw.githubusercontent.com/phelber/EuroSAT/master/eurosat_overview_small.jpg)\n"
      ]
    },
    {
      "cell_type": "markdown",
      "metadata": {
        "id": "XMuS6T6QzU3i"
      },
      "source": [
        "Download the dataset"
      ]
    },
    {
      "cell_type": "code",
      "execution_count": null,
      "metadata": {
        "colab": {
          "base_uri": "https://localhost:8080/"
        },
        "id": "gGytr7JbyMWc",
        "outputId": "ff9add95-cdb3-42f2-d162-9262e34dbc8b"
      },
      "outputs": [],
      "source": [
        "import requests\n",
        "\n",
        "url =  'http://madm.dfki.de/files/sentinel/EuroSAT.zip'\n",
        "r = requests.get(url, allow_redirects=True)\n",
        "open('EuroSAT.zip', 'wb').write(r.content)"
      ]
    },
    {
      "cell_type": "markdown",
      "metadata": {
        "id": "0vdRh1hlzbdE"
      },
      "source": [
        "Unzip the dataset"
      ]
    },
    {
      "cell_type": "code",
      "execution_count": null,
      "metadata": {
        "colab": {
          "base_uri": "https://localhost:8080/"
        },
        "id": "gwNVhl-BysZO",
        "outputId": "b6ed4a11-f965-4f50-ee84-3c30a001523a"
      },
      "outputs": [],
      "source": [
        "!unzip '/content/EuroSAT.zip'"
      ]
    },
    {
      "cell_type": "markdown",
      "metadata": {
        "id": "M0O9s4bI1beV"
      },
      "source": [
        "Rename the folder"
      ]
    },
    {
      "cell_type": "code",
      "execution_count": null,
      "metadata": {
        "id": "cbcPnrFDzk5Q"
      },
      "outputs": [],
      "source": [
        "!mv '/content/2750' '/content/EuroSAT'"
      ]
    },
    {
      "cell_type": "markdown",
      "metadata": {
        "id": "F2HSL7WEagL9"
      },
      "source": [
        "Count images in the dataset"
      ]
    },
    {
      "cell_type": "code",
      "execution_count": null,
      "metadata": {
        "colab": {
          "base_uri": "https://localhost:8080/"
        },
        "id": "Mw2vSKDGaftT",
        "outputId": "ed03d89d-391d-40b1-b6ff-2647b7018d01"
      },
      "outputs": [],
      "source": [
        "import glob\n",
        "\n",
        "paths = glob.glob('/content/EuroSAT/*/*')\n",
        "print('Number of images {}/27000'.format(len(paths)))"
      ]
    },
    {
      "cell_type": "markdown",
      "metadata": {
        "id": "t6GxK7B3a9cj"
      },
      "source": [
        "## Image Data Generator "
      ]
    },
    {
      "cell_type": "code",
      "execution_count": null,
      "metadata": {
        "colab": {
          "base_uri": "https://localhost:8080/"
        },
        "id": "TceOwOsa0zii",
        "outputId": "c37bec82-7f08-4a44-a2cd-9d96377dccde"
      },
      "outputs": [],
      "source": [
        "from tensorflow.keras.preprocessing.image import ImageDataGenerator\n",
        "\n",
        "batch_size = 16\n",
        "\n",
        "train_datagen = ImageDataGenerator(\n",
        "        rescale=1./255,\n",
        "        validation_split=0.2)\n",
        "\n",
        "train_generator = train_datagen.flow_from_directory(\n",
        "    '/content/EuroSAT',  \n",
        "    target_size=(64, 64),  \n",
        "    batch_size=batch_size,\n",
        "    class_mode='input',\n",
        "    subset='training')\n",
        "\n",
        "val_generator = train_datagen.flow_from_directory(\n",
        "    '/content/EuroSAT',  \n",
        "    target_size=(64, 64),  \n",
        "    batch_size=batch_size,\n",
        "    class_mode='input',\n",
        "    subset='validation')  "
      ]
    },
    {
      "cell_type": "code",
      "execution_count": null,
      "metadata": {
        "colab": {
          "base_uri": "https://localhost:8080/"
        },
        "id": "Vjn9fMdTcBV9",
        "outputId": "80313740-00bc-4e22-af08-2d89a2360671"
      },
      "outputs": [],
      "source": [
        "classes = train_generator.class_indices\n",
        "classes= dict(zip(classes.values(), classes.keys()))  \n",
        "print(classes)"
      ]
    },
    {
      "cell_type": "markdown",
      "metadata": {
        "id": "6Vi7ECZPbMAz"
      },
      "source": [
        "Generate some exaples"
      ]
    },
    {
      "cell_type": "code",
      "execution_count": null,
      "metadata": {
        "colab": {
          "base_uri": "https://localhost:8080/"
        },
        "id": "yXvlrAIVbLas",
        "outputId": "84c57c08-9145-4a1e-9d35-9140e913f424"
      },
      "outputs": [],
      "source": [
        "x,y = next(iter(train_generator))\n",
        "print('x shape {}'.format(x.shape))\n",
        "print('y shape {}'.format(y.shape))"
      ]
    },
    {
      "cell_type": "markdown",
      "metadata": {
        "id": "fw6Ktf0ibCCE"
      },
      "source": [
        "Plot some examples"
      ]
    },
    {
      "cell_type": "code",
      "execution_count": null,
      "metadata": {
        "colab": {
          "base_uri": "https://localhost:8080/",
          "height": 1000
        },
        "id": "cvxkJCftbBkB",
        "outputId": "3623aee5-790c-4986-8109-390eea5e5379"
      },
      "outputs": [],
      "source": [
        "import matplotlib.pyplot as plt\n",
        "import numpy as np\n",
        "\n",
        "fig, axes = plt.subplots(nrows = 4, ncols = 4, figsize = (16,16))\n",
        "\n",
        "ct = 0\n",
        "for i in range(4):\n",
        "  for j in range(4):\n",
        "    axes[i,j].imshow(x[ct])\n",
        "    axes[i,j].axis(False)\n",
        "    ct += 1\n",
        "\n",
        "fig.tight_layout()\n",
        "plt.show()\n"
      ]
    },
    {
      "cell_type": "markdown",
      "metadata": {
        "id": "L2vZp5NseJUb"
      },
      "source": [
        "## Define the Autoencoder\n"
      ]
    },
    {
      "cell_type": "code",
      "execution_count": null,
      "metadata": {
        "id": "0dZgTiIBwEPx"
      },
      "outputs": [],
      "source": [
        "from re import X\n",
        "from tensorflow.keras.models import Model\n",
        "from tensorflow.keras.layers import Conv2D, MaxPooling2D, Input, UpSampling2D\n",
        "\n",
        "\n",
        "model = None\n",
        "input_img = Input(shape=(64, 64, 3)) \n",
        "\n",
        "x = Conv2D(filters=16, kernel_size=(3, 3), activation='relu', padding='same')(input_img)\n",
        "x = MaxPooling2D(pool_size=(2, 2), padding='same')(x)\n",
        "x = Conv2D(filters=32, kernel_size=(3, 3), activation='relu', padding='same')(x)\n",
        "x = MaxPooling2D(pool_size=(2, 2), padding='same')(x)\n",
        "x = Conv2D(filters=64, kernel_size=(3, 3), activation='relu', padding='same')(x)\n",
        "x = MaxPooling2D(pool_size=(2, 2), padding='same')(x)\n",
        "\n",
        "x = Conv2D(filters=64, kernel_size=(3, 3), activation='relu', padding='same')(x)\n",
        "x = UpSampling2D(size=(2, 2))(x)\n",
        "x = Conv2D(filters=32, kernel_size=(3, 3), activation='relu', padding='same')(x)\n",
        "x = UpSampling2D(size=(2, 2))(x)\n",
        "x = Conv2D(filters=16, kernel_size=(3, 3), activation='relu', padding='same')(x)\n",
        "x = UpSampling2D(size=(2, 2))(x)\n",
        "x = Conv2D(filters=3, kernel_size=(3, 3), activation='sigmoid', padding='same')(x)\n",
        "\n",
        "model = Model(input_img, x)"
      ]
    },
    {
      "cell_type": "markdown",
      "metadata": {
        "id": "u_72ZdIDgdUX"
      },
      "source": [
        "Compile the model"
      ]
    },
    {
      "cell_type": "code",
      "execution_count": null,
      "metadata": {
        "id": "oeAQh00QgdrW"
      },
      "outputs": [],
      "source": [
        "from tensorflow.keras.optimizers import Adam, SGD\n",
        "\n",
        "model.compile(loss='mse', optimizer=Adam(), metrics=['mae'])"
      ]
    },
    {
      "cell_type": "markdown",
      "metadata": {
        "id": "cjubqFOWfCNK"
      },
      "source": [
        "Print model configuration"
      ]
    },
    {
      "cell_type": "code",
      "execution_count": null,
      "metadata": {
        "colab": {
          "base_uri": "https://localhost:8080/"
        },
        "id": "x0jnhaN9wEAp",
        "outputId": "89b31ea5-35e2-43e7-ebfa-853836848796"
      },
      "outputs": [],
      "source": [
        "model.summary()"
      ]
    },
    {
      "cell_type": "markdown",
      "metadata": {
        "id": "mHWWXVXtgWUm"
      },
      "source": [
        "## Train the autoencoder"
      ]
    },
    {
      "cell_type": "code",
      "execution_count": null,
      "metadata": {
        "colab": {
          "base_uri": "https://localhost:8080/"
        },
        "id": "4CkhxnMQe4pI",
        "outputId": "c4be8a19-4bc4-4930-ab8f-3f3c55ca2502"
      },
      "outputs": [],
      "source": [
        "history = model.fit(\n",
        "    train_generator,\n",
        "    steps_per_epoch = train_generator.n//batch_size,\n",
        "    validation_data = val_generator,\n",
        "    validation_steps = val_generator.n//batch_size,\n",
        "    epochs = 15\n",
        ")"
      ]
    },
    {
      "cell_type": "markdown",
      "metadata": {
        "id": "a9JFokLtnUWh"
      },
      "source": [
        "Plot training history"
      ]
    },
    {
      "cell_type": "code",
      "execution_count": null,
      "metadata": {
        "colab": {
          "base_uri": "https://localhost:8080/",
          "height": 369
        },
        "id": "P1fIwSAkh9r8",
        "outputId": "0a713a11-0049-434d-c558-dfb619917d6a"
      },
      "outputs": [],
      "source": [
        "fig, axes = plt.subplots(nrows = 1, ncols = 2, figsize = (10,5))\n",
        "\n",
        "axes[0].plot(history.history['loss'], '-*', label = 'Training')\n",
        "axes[0].plot(history.history['val_loss'], '-o', label = 'Validtion')\n",
        "axes[0].set_ylabel('Mean Squared Error')\n",
        "axes[0].set_xlabel('Epochs')\n",
        "axes[0].set_title('Model MSE over epochs')\n",
        "\n",
        "axes[1].plot(history.history['mae'], '-*', label = 'Training')\n",
        "axes[1].plot(history.history['val_mae'], '-o', label = 'Validtion')\n",
        "axes[1].set_ylabel('Mean Absolute Error')\n",
        "axes[1].set_xlabel('Epochs')\n",
        "axes[1].set_title('Model MAE over epochs')\n",
        "\n",
        "fig.tight_layout()\n",
        "plt.show()"
      ]
    },
    {
      "cell_type": "markdown",
      "metadata": {
        "id": "BJbBclnjqQqf"
      },
      "source": [
        "## Evaluate Results"
      ]
    },
    {
      "cell_type": "code",
      "execution_count": null,
      "metadata": {
        "id": "aRXmFO9Xp6mo"
      },
      "outputs": [],
      "source": [
        "x, y = next(iter(val_generator))\n",
        "y_pred = model.predict(x)"
      ]
    },
    {
      "cell_type": "code",
      "execution_count": null,
      "metadata": {
        "colab": {
          "base_uri": "https://localhost:8080/",
          "height": 1000
        },
        "id": "YPrrQWgzuDhD",
        "outputId": "bd39e8f2-6663-42b3-c5cf-e56e37dcdc3e"
      },
      "outputs": [],
      "source": [
        "for i in range(batch_size):\n",
        "  print('\\t --------------------------- Batch {} ---------------------------'.format(i))\n",
        "\n",
        "  fig, axes = plt.subplots(nrows = 1, ncols = 2, figsize = (10,5))\n",
        "  axes[0].imshow(x[i])\n",
        "  axes[0].axis(False)\n",
        "  axes[0].set_title('Sentinel-2\\n (Input)')\n",
        "\n",
        "  axes[1].imshow(y_pred[i])\n",
        "  axes[1].axis(False)\n",
        "  axes[1].set_title('Sentinel-2\\n (Autoencoder)')\n",
        "\n",
        "  fig.tight_layout()\n",
        "  plt.show()\n",
        "  plt.close()"
      ]
    },
    {
      "cell_type": "markdown",
      "metadata": {
        "id": "3bqAeKy1obCU"
      },
      "source": [
        "## Get access to features"
      ]
    },
    {
      "cell_type": "code",
      "execution_count": null,
      "metadata": {
        "id": "jnz52DeVnwjT"
      },
      "outputs": [],
      "source": [
        "encoder = Model(inputs=model.input, outputs=model.layers[6].output)"
      ]
    },
    {
      "cell_type": "code",
      "execution_count": null,
      "metadata": {
        "id": "nZpbC6VypEDT"
      },
      "outputs": [],
      "source": [
        "y_encoder = encoder.predict(x)"
      ]
    },
    {
      "cell_type": "code",
      "execution_count": null,
      "metadata": {
        "colab": {
          "base_uri": "https://localhost:8080/",
          "height": 1000
        },
        "id": "zZnx_lsvpJzt",
        "outputId": "bca12286-ffe6-47b6-8621-ddd25572a8e9"
      },
      "outputs": [],
      "source": [
        "for i in range(batch_size):\n",
        "  print('\\t\\t\\t\\t\\t\\t\\t --------------------------- Batch {} --------------------------- \\n'.format(i))\n",
        "\n",
        "  fig, axes = plt.subplots(nrows = 1, ncols = 10, figsize = (30,3))\n",
        "  axes[0].imshow(x[i])\n",
        "  axes[0].axis(False)\n",
        "  axes[0].set_title('Sentinel-2\\n (Input)')\n",
        "\n",
        "  for k in range(1,10):\n",
        "    axes[k].imshow(y_encoder[i,:,:,k])\n",
        "    axes[k].axis(False)\n",
        "    axes[k].set_title('Sentinel-2\\n (Encoder F-{})'.format(k))\n",
        "\n",
        "  fig.tight_layout()\n",
        "  plt.show()\n",
        "  plt.close()"
      ]
    },
    {
      "cell_type": "markdown",
      "metadata": {
        "id": "4QKbfAr9rLLz"
      },
      "source": [
        "## Clustering"
      ]
    },
    {
      "cell_type": "code",
      "execution_count": null,
      "metadata": {
        "colab": {
          "base_uri": "https://localhost:8080/"
        },
        "id": "gOZwUONXrxbi",
        "outputId": "ab47e05a-5f6e-4bc0-a05b-9fa5f68ac1b1"
      },
      "outputs": [],
      "source": [
        "batch_size = 27000\n",
        "\n",
        "train_datagen = ImageDataGenerator(\n",
        "        rescale=1./255)\n",
        "\n",
        "train_generator = train_datagen.flow_from_directory(\n",
        "    '/content/EuroSAT',  \n",
        "    target_size=(64, 64),  \n",
        "    batch_size=batch_size,\n",
        "    class_mode='input')"
      ]
    },
    {
      "cell_type": "code",
      "execution_count": null,
      "metadata": {
        "id": "EDmWsMT1xeUD"
      },
      "outputs": [],
      "source": [
        "x,_ = next(iter(train_generator))\n",
        "y_encoder = encoder.predict(x)"
      ]
    },
    {
      "cell_type": "markdown",
      "metadata": {
        "id": "3ySe_A_uy0ng"
      },
      "source": [
        "K-means clustering"
      ]
    },
    {
      "cell_type": "code",
      "execution_count": null,
      "metadata": {
        "id": "KEqJE82dxrxs"
      },
      "outputs": [],
      "source": [
        "from sklearn.cluster import KMeans\n",
        "y_encoder = y_encoder.reshape((27000,8*8*64))\n",
        "kmeans = KMeans(n_clusters=10, random_state=0).fit(y_encoder)"
      ]
    },
    {
      "cell_type": "code",
      "execution_count": null,
      "metadata": {
        "id": "1dYE8P8Bx7ZA"
      },
      "outputs": [],
      "source": [
        "clusters = kmeans.predict(y_encoder)"
      ]
    },
    {
      "cell_type": "markdown",
      "metadata": {
        "id": "CK9t1jDLy3JD"
      },
      "source": [
        "Evaluate results"
      ]
    },
    {
      "cell_type": "code",
      "execution_count": null,
      "metadata": {
        "colab": {
          "base_uri": "https://localhost:8080/",
          "height": 199
        },
        "id": "zdm87_m9yrt2",
        "outputId": "b74aeba8-7641-4200-c064-7e212d91912f"
      },
      "outputs": [],
      "source": [
        "i = 0\n",
        "j = 0\n",
        "\n",
        "cluster = 3\n",
        "\n",
        "fig, axes = plt.subplots(nrows = 1, ncols = 8, figsize=(24,3))\n",
        "\n",
        "while i < 8:\n",
        "\n",
        "  if clusters[j] == cluster:\n",
        "    axes[i].imshow(x[j])\n",
        "    axes[i].axis(False)\n",
        "    i += 1\n",
        "  \n",
        "  j+=1\n",
        "\n",
        "fig.tight_layout()\n",
        "plt.show()\n",
        "    "
      ]
    },
    {
      "cell_type": "code",
      "execution_count": null,
      "metadata": {
        "id": "utF_PPlvzLdi"
      },
      "outputs": [],
      "source": []
    }
  ],
  "metadata": {
    "accelerator": "GPU",
    "colab": {
      "collapsed_sections": [],
      "name": "EuroSAT-CNN-Autoencoder-Clustering.ipynb",
      "provenance": []
    },
    "kernelspec": {
      "display_name": "Python 3",
      "name": "python3"
    },
    "language_info": {
      "name": "python"
    }
  },
  "nbformat": 4,
  "nbformat_minor": 0
}
