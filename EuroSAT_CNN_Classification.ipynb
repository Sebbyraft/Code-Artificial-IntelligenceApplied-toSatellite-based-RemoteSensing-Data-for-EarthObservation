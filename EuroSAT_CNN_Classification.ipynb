{
  "cells": [
    {
      "cell_type": "markdown",
      "metadata": {
        "id": "cF9IVw5yaJT3"
      },
      "source": [
        "# Sentinel-2 multiclass classification using Convolutional Neural Network"
      ]
    },
    {
      "cell_type": "markdown",
      "metadata": {
        "id": "1eWebtPlyyQs"
      },
      "source": [
        "## Download the EuroSAT dataset\n",
        "\n",
        "\n",
        "[EuroSAT dataset](https://github.com/phelber/EuroSAT)\n",
        "![](https://raw.githubusercontent.com/phelber/EuroSAT/master/eurosat_overview_small.jpg)\n"
      ]
    },
    {
      "cell_type": "markdown",
      "metadata": {
        "id": "XMuS6T6QzU3i"
      },
      "source": [
        "Download the dataset"
      ]
    },
    {
      "cell_type": "code",
      "execution_count": null,
      "metadata": {
        "colab": {
          "base_uri": "https://localhost:8080/",
          "height": 0
        },
        "id": "gGytr7JbyMWc",
        "outputId": "a1585075-d113-4852-ca5c-74a6a1f9c09b"
      },
      "outputs": [],
      "source": [
        "import requests\n",
        "\n",
        "url =  'http://madm.dfki.de/files/sentinel/EuroSAT.zip'\n",
        "r = requests.get(url, allow_redirects=True)\n",
        "open('EuroSAT.zip', 'wb').write(r.content)"
      ]
    },
    {
      "cell_type": "markdown",
      "metadata": {
        "id": "0vdRh1hlzbdE"
      },
      "source": [
        "Unzip the dataset"
      ]
    },
    {
      "cell_type": "code",
      "execution_count": null,
      "metadata": {
        "id": "gwNVhl-BysZO"
      },
      "outputs": [],
      "source": [
        "!unzip '/content/EuroSAT.zip'"
      ]
    },
    {
      "cell_type": "markdown",
      "metadata": {
        "id": "M0O9s4bI1beV"
      },
      "source": [
        "Rename the folder"
      ]
    },
    {
      "cell_type": "code",
      "execution_count": null,
      "metadata": {
        "id": "cbcPnrFDzk5Q"
      },
      "outputs": [],
      "source": [
        "!mv '/content/2750' '/content/EuroSAT'"
      ]
    },
    {
      "cell_type": "markdown",
      "metadata": {
        "id": "F2HSL7WEagL9"
      },
      "source": [
        "Count images in the dataset"
      ]
    },
    {
      "cell_type": "code",
      "execution_count": null,
      "metadata": {
        "colab": {
          "base_uri": "https://localhost:8080/",
          "height": 0
        },
        "id": "Mw2vSKDGaftT",
        "outputId": "23dff5f9-6269-4a8b-ef71-ef88a73721d1"
      },
      "outputs": [],
      "source": [
        "import glob\n",
        "\n",
        "paths = glob.glob('/content/EuroSAT/*/*')\n",
        "print('Number of images {}/27000'.format(len(paths)))"
      ]
    },
    {
      "cell_type": "markdown",
      "metadata": {
        "id": "t6GxK7B3a9cj"
      },
      "source": [
        "## Image Data Generator "
      ]
    },
    {
      "cell_type": "code",
      "execution_count": null,
      "metadata": {
        "colab": {
          "base_uri": "https://localhost:8080/"
        },
        "id": "TceOwOsa0zii",
        "outputId": "15ed4485-9038-4929-b38e-fa1632ce515d"
      },
      "outputs": [],
      "source": [
        "from tensorflow.keras.preprocessing.image import ImageDataGenerator\n",
        "\n",
        "batch_size = 16\n",
        "\n",
        "train_datagen = ImageDataGenerator(\n",
        "        rescale=1./255,\n",
        "        validation_split=0.2)\n",
        "\n",
        "train_generator = train_datagen.flow_from_directory(\n",
        "    '/content/EuroSAT',  \n",
        "    target_size=(64, 64),  \n",
        "    batch_size=batch_size,\n",
        "    class_mode='categorical',\n",
        "    subset='training')\n",
        "\n",
        "val_generator = train_datagen.flow_from_directory(\n",
        "    '/content/EuroSAT',  \n",
        "    target_size=(64, 64),  \n",
        "    batch_size=batch_size,\n",
        "    class_mode='categorical',\n",
        "    subset='validation')  "
      ]
    },
    {
      "cell_type": "code",
      "execution_count": null,
      "metadata": {
        "colab": {
          "base_uri": "https://localhost:8080/",
          "height": 0
        },
        "id": "Vjn9fMdTcBV9",
        "outputId": "91e3e904-ec64-4936-a31c-bdf9a22d2ed7"
      },
      "outputs": [],
      "source": [
        "classes = train_generator.class_indices\n",
        "classes= dict(zip(classes.values(), classes.keys()))  \n",
        "print(classes)"
      ]
    },
    {
      "cell_type": "markdown",
      "metadata": {
        "id": "6Vi7ECZPbMAz"
      },
      "source": [
        "Generate some exaples"
      ]
    },
    {
      "cell_type": "code",
      "execution_count": null,
      "metadata": {
        "colab": {
          "base_uri": "https://localhost:8080/",
          "height": 0
        },
        "id": "yXvlrAIVbLas",
        "outputId": "d144564a-7aae-4e1f-9deb-1475fa226a29"
      },
      "outputs": [],
      "source": [
        "x,y = next(iter(train_generator))\n",
        "print('x shape {}'.format(x.shape))\n",
        "print('y shape {}'.format(y.shape))"
      ]
    },
    {
      "cell_type": "markdown",
      "metadata": {
        "id": "fw6Ktf0ibCCE"
      },
      "source": [
        "Plot some examples"
      ]
    },
    {
      "cell_type": "code",
      "execution_count": null,
      "metadata": {
        "colab": {
          "base_uri": "https://localhost:8080/",
          "height": 1000
        },
        "id": "cvxkJCftbBkB",
        "outputId": "0e2abb36-eab1-427d-8bbc-4705bb54c3c1"
      },
      "outputs": [],
      "source": [
        "import matplotlib.pyplot as plt\n",
        "import numpy as np\n",
        "\n",
        "fig, axes = plt.subplots(nrows = 4, ncols = 4, figsize = (16,16))\n",
        "\n",
        "ct = 0\n",
        "for i in range(4):\n",
        "  for j in range(4):\n",
        "    axes[i,j].imshow(x[ct])\n",
        "    axes[i,j].set_title('Label {} \\n Class {}'.format(y[ct], classes[np.argmax(y[ct])]))\n",
        "    axes[i,j].axis(False)\n",
        "    ct += 1\n",
        "\n",
        "fig.tight_layout()\n",
        "plt.show()\n"
      ]
    },
    {
      "cell_type": "markdown",
      "metadata": {
        "id": "L2vZp5NseJUb"
      },
      "source": [
        "## Define the Convolutional Neural Network\n",
        "\n",
        "We will use the LeNet-5 ([Find out more](https://en.wikipedia.org/wiki/LeNet))"
      ]
    },
    {
      "cell_type": "code",
      "execution_count": null,
      "metadata": {
        "id": "0dZgTiIBwEPx"
      },
      "outputs": [],
      "source": [
        "from tensorflow.keras.models import Model\n",
        "from tensorflow.keras.layers import Conv2D, AveragePooling2D, Flatten, Dense, Input, Dropout\n",
        "\n",
        "\n",
        "model = None\n",
        "x_in = Input(shape = (64,64,3))\n",
        "\n",
        "\n",
        "# Convolution\n",
        "x = Conv2D(filters=6, kernel_size=(5, 5), activation='relu')(x_in)\n",
        "x = AveragePooling2D(pool_size=(2,2), strides=(2,2))(x)\n",
        "x = Conv2D(filters=16, kernel_size=(5, 5), activation='relu')(x)\n",
        "x = AveragePooling2D(pool_size=(2,2), strides=(2,2))(x)\n",
        "# MLP\n",
        "x = Flatten()(x)\n",
        "x = Dense(units=120, activation='relu')(x)\n",
        "x = Dropout(0.2)(x)\n",
        "x = Dense(units=84, activation='relu')(x)\n",
        "x = Dropout(0.2)(x)\n",
        "x = Dense(units=10, activation = 'softmax')(x)\n",
        "\n",
        "model = Model(inputs = x_in, outputs = x)"
      ]
    },
    {
      "cell_type": "markdown",
      "metadata": {
        "id": "u_72ZdIDgdUX"
      },
      "source": [
        "Compile the model"
      ]
    },
    {
      "cell_type": "code",
      "execution_count": null,
      "metadata": {
        "id": "oeAQh00QgdrW"
      },
      "outputs": [],
      "source": [
        "from tensorflow.keras.optimizers import Adam, SGD\n",
        "\n",
        "model.compile(loss='categorical_crossentropy', optimizer=Adam(), metrics=['accuracy'])"
      ]
    },
    {
      "cell_type": "markdown",
      "metadata": {
        "id": "cjubqFOWfCNK"
      },
      "source": [
        "Print model configuration"
      ]
    },
    {
      "cell_type": "code",
      "execution_count": null,
      "metadata": {
        "colab": {
          "base_uri": "https://localhost:8080/"
        },
        "id": "x0jnhaN9wEAp",
        "outputId": "0b0a2dc1-aaf2-48fe-f5c3-418301ba2bc1"
      },
      "outputs": [],
      "source": [
        "model.summary()"
      ]
    },
    {
      "cell_type": "markdown",
      "metadata": {
        "id": "mHWWXVXtgWUm"
      },
      "source": [
        "## Train the LeNet-5"
      ]
    },
    {
      "cell_type": "code",
      "execution_count": null,
      "metadata": {
        "colab": {
          "base_uri": "https://localhost:8080/"
        },
        "id": "4CkhxnMQe4pI",
        "outputId": "fea6d0ec-8458-48e9-fa34-6db62efd29c4"
      },
      "outputs": [],
      "source": [
        "history = model.fit(\n",
        "    train_generator,\n",
        "    steps_per_epoch = train_generator.n//batch_size,\n",
        "    validation_data = val_generator,\n",
        "    validation_steps = val_generator.n//batch_size,\n",
        "    epochs = 15\n",
        ")"
      ]
    },
    {
      "cell_type": "markdown",
      "metadata": {
        "id": "a9JFokLtnUWh"
      },
      "source": [
        "Plot training history"
      ]
    },
    {
      "cell_type": "code",
      "execution_count": null,
      "metadata": {
        "colab": {
          "base_uri": "https://localhost:8080/",
          "height": 369
        },
        "id": "P1fIwSAkh9r8",
        "outputId": "be553f28-6d33-4eab-ff2c-3a0c51730a28"
      },
      "outputs": [],
      "source": [
        "fig, axes = plt.subplots(nrows = 1, ncols = 2, figsize = (10,5))\n",
        "\n",
        "axes[0].plot(history.history['loss'], '-*', label = 'Training')\n",
        "axes[0].plot(history.history['val_loss'], '-o', label = 'Validtion')\n",
        "axes[0].set_ylabel('Categorical Cross Entropy')\n",
        "axes[0].set_xlabel('Epochs')\n",
        "axes[0].set_title('Model loss over epochs')\n",
        "\n",
        "axes[1].plot(history.history['accuracy'], '-*', label = 'Training')\n",
        "axes[1].plot(history.history['val_accuracy'], '-o', label = 'Validtion')\n",
        "axes[1].set_ylabel('Accuracy')\n",
        "axes[1].set_xlabel('Epochs')\n",
        "axes[1].set_title('Model accuracy over epochs')\n",
        "\n",
        "fig.tight_layout()\n",
        "plt.show()"
      ]
    },
    {
      "cell_type": "markdown",
      "metadata": {
        "id": "BJbBclnjqQqf"
      },
      "source": [
        "## Evaluate Performances"
      ]
    },
    {
      "cell_type": "code",
      "execution_count": null,
      "metadata": {
        "colab": {
          "base_uri": "https://localhost:8080/"
        },
        "id": "YNFHm2HWuuWD",
        "outputId": "b812c20b-8467-4d78-98d8-bdcd50b71eae"
      },
      "outputs": [],
      "source": [
        "batch_size = val_generator.n\n",
        "\n",
        "val_generator = train_datagen.flow_from_directory(\n",
        "    '/content/EuroSAT',  \n",
        "    target_size=(64, 64),  \n",
        "    batch_size=batch_size,\n",
        "    class_mode='categorical',\n",
        "    subset='validation') "
      ]
    },
    {
      "cell_type": "markdown",
      "metadata": {
        "id": "eJo8qtlGvl76"
      },
      "source": [
        "Get predictions for the validation set"
      ]
    },
    {
      "cell_type": "code",
      "execution_count": null,
      "metadata": {
        "id": "aRXmFO9Xp6mo"
      },
      "outputs": [],
      "source": [
        "x, y = next(iter(val_generator))\n",
        "y_true = np.argmax(y, axis=1)\n",
        "Y_pred = model.predict(x)\n",
        "y_pred = np.argmax(Y_pred, axis=1)"
      ]
    },
    {
      "cell_type": "markdown",
      "metadata": {
        "id": "oNcC8go3voyJ"
      },
      "source": [
        "Compute confusion matrix"
      ]
    },
    {
      "cell_type": "code",
      "execution_count": null,
      "metadata": {
        "id": "PFcbKJ-YvIKO"
      },
      "outputs": [],
      "source": [
        "from sklearn.metrics import confusion_matrix\n",
        "\n",
        "cm = confusion_matrix(y_true, y_pred, normalize='true')"
      ]
    },
    {
      "cell_type": "markdown",
      "metadata": {
        "id": "daLKAZCuvqjE"
      },
      "source": [
        "Plot confusion matrix"
      ]
    },
    {
      "cell_type": "code",
      "execution_count": null,
      "metadata": {
        "colab": {
          "base_uri": "https://localhost:8080/",
          "height": 600
        },
        "id": "reUAhIUAtY47",
        "outputId": "ea696fe5-da21-4a6f-b8c8-da93185bf8d0"
      },
      "outputs": [],
      "source": [
        "from sklearn.metrics import ConfusionMatrixDisplay\n",
        "\n",
        "fig, ax = plt.subplots(nrows = 1, ncols = 1, figsize = (10,8))\n",
        "disp = ConfusionMatrixDisplay(confusion_matrix=cm, display_labels=classes.values())\n",
        "disp.plot(ax=ax, cmap=plt.cm.Blues, xticks_rotation='vertical')\n",
        "plt.show()"
      ]
    },
    {
      "cell_type": "markdown",
      "metadata": {
        "id": "4HidOfw1vsvC"
      },
      "source": [
        "Compute classification report"
      ]
    },
    {
      "cell_type": "code",
      "execution_count": null,
      "metadata": {
        "colab": {
          "base_uri": "https://localhost:8080/"
        },
        "id": "pQHV7veYt3U8",
        "outputId": "c85ecbc2-beef-490a-8a85-15b8a9e0a90f"
      },
      "outputs": [],
      "source": [
        "from sklearn.metrics import classification_report\n",
        "print(classification_report(y_true, y_pred, target_names=classes.values()))"
      ]
    },
    {
      "cell_type": "code",
      "execution_count": null,
      "metadata": {
        "id": "YPrrQWgzuDhD"
      },
      "outputs": [],
      "source": []
    }
  ],
  "metadata": {
    "accelerator": "GPU",
    "colab": {
      "collapsed_sections": [],
      "name": "EuroSAT-CNN-Classification.ipynb",
      "provenance": [],
      "toc_visible": true
    },
    "kernelspec": {
      "display_name": "Python 3",
      "name": "python3"
    },
    "language_info": {
      "name": "python"
    }
  },
  "nbformat": 4,
  "nbformat_minor": 0
}
