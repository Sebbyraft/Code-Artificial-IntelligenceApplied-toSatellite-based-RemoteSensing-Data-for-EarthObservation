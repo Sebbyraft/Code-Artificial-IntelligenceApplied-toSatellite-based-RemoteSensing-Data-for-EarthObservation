{
  "cells": [
    {
      "cell_type": "markdown",
      "metadata": {
        "id": "_HF4opJ4hlvn"
      },
      "source": [
        "# Artificial IntelligenceApplied toSatellite-based RemoteSensing Data for EarthObservation\n",
        "## Chapter 7 - Example 3: Detection\n",
        "\n",
        "The aim of this project is to implement a model able to detect simple object"
      ]
    },
    {
      "cell_type": "markdown",
      "metadata": {
        "id": "BdtqGl6-hsIf"
      },
      "source": [
        "Load the [NumPy](https://numpy.org/) library. NumPy is a library for the Python programming language, adding support for large, multi-dimensional arrays and matrices, along with a large collection of high-level mathematical functions to operate on these arrays."
      ]
    },
    {
      "cell_type": "code",
      "execution_count": null,
      "metadata": {
        "id": "XTo5MB7ahs8v"
      },
      "outputs": [],
      "source": [
        "import numpy as np"
      ]
    },
    {
      "cell_type": "markdown",
      "metadata": {
        "id": "BHpW3x_phuYp"
      },
      "source": [
        "Load the [Matplotlib](https://matplotlib.org/) library. Matplotlib is a plotting library for the Python programming language and its numerical mathematics extension NumPy. It provides an object-oriented API for embedding plots into applications using general-purpose GUI toolkits like Tkinter, wxPython, Qt, or GTK+. There is also a procedural \"pylab\" interface based on a state machine (like OpenGL), designed to closely resemble that of MATLAB, though its use is discouraged. SciPy makes use of Matplotlib."
      ]
    },
    {
      "cell_type": "code",
      "execution_count": null,
      "metadata": {
        "id": "ydcbdAYXh1fX"
      },
      "outputs": [],
      "source": [
        "import matplotlib.pyplot as plt"
      ]
    },
    {
      "cell_type": "markdown",
      "metadata": {
        "id": "UtK9VveHh3h3"
      },
      "source": [
        "Load some functions from Tensorflow.Keras library. Keras is an API designed for human beings, not machines. Keras follows best practices for reducing cognitive load: it offers consistent & simple APIs, it minimizes the number of user actions required for common use cases, and it provides clear & actionable error messages. It also has extensive documentation and developer guides. "
      ]
    },
    {
      "cell_type": "code",
      "execution_count": null,
      "metadata": {
        "id": "8a3Dd8mOiMKS"
      },
      "outputs": [],
      "source": [
        "from tensorflow.keras.models import Sequential\n",
        "from tensorflow.keras.layers import Flatten, Dense\n",
        "from tensorflow.keras import backend as K"
      ]
    },
    {
      "cell_type": "markdown",
      "metadata": {
        "id": "JOxyzia9h952"
      },
      "source": [
        "## Create the dataset\n",
        "For this simple project the dataset is created on-line. A common practice in Deep Learning is the use of generators. Basically a generator is composed of an infinite while loop and of the yield keyword. The generator is used to avoid memory problems, infact the datast is not loaded all in once, but batch by batch.\n",
        "\n",
        "The generator, in this case, produces an RGB image of size (32, 32, 3) -> (width, height, channel), in which you can see a random object in a noisy background. The position of the objects is random."
      ]
    },
    {
      "cell_type": "code",
      "execution_count": null,
      "metadata": {
        "id": "CWFdToMpiN4J"
      },
      "outputs": [],
      "source": [
        "def dataset_generator(batch_size = 16):\n",
        "  img_shape = (32, 32, 3)\n",
        "  \n",
        "  while True:\n",
        "    x_train = np.zeros((batch_size, img_shape[0], img_shape[1], img_shape[2]))\n",
        "    y_train = np.zeros((batch_size, 4))\n",
        "\n",
        "    for b in range(batch_size):\n",
        "\n",
        "      object_width = int(np.random.randint(4, high = 12, size = 1))\n",
        "      object_height = int(np.random.randint(4, high = 12, size = 1)) \n",
        "      #object_height = object_width\n",
        "\n",
        "      x = np.random.randint(object_width + 1, high = img_shape[0] - object_width - 1)\n",
        "      y = np.random.randint(object_height + 1, high = img_shape[0] - object_height - 1)\n",
        "\n",
        "      x_train[b, x:x+object_width, y:y+object_height, 1] = 1 \n",
        "      x_train[b, ...] = x_train[b, ...] + np.random.random(img_shape)*0.2\n",
        "      \n",
        "      x_train = np.clip(x_train, 0.0, 1.0)\n",
        "\n",
        "      y_train[b, 0] = x\n",
        "      y_train[b, 1] = y\n",
        "      y_train[b, 2] = x + object_width\n",
        "      y_train[b, 3] = y + object_height\n",
        "    \n",
        "    yield x_train, y_train"
      ]
    },
    {
      "cell_type": "code",
      "execution_count": null,
      "metadata": {
        "id": "7DNyLjBzN-EN"
      },
      "outputs": [],
      "source": [
        "generator = dataset_generator(batch_size = 9)\n",
        "itereator = iter(generator)\n",
        "x_train, y_train = next(itereator)"
      ]
    },
    {
      "cell_type": "code",
      "execution_count": null,
      "metadata": {
        "colab": {
          "base_uri": "https://localhost:8080/",
          "height": 167
        },
        "id": "CA7MAVVw-DVd",
        "outputId": "14b1c9b8-7d0e-4d5d-a6e6-c39739dc20c7"
      },
      "outputs": [],
      "source": [
        "y_train"
      ]
    },
    {
      "cell_type": "code",
      "execution_count": null,
      "metadata": {
        "colab": {
          "base_uri": "https://localhost:8080/",
          "height": 698
        },
        "id": "Dopstbcngote",
        "outputId": "4fb9aedb-3620-4f24-a91a-39f9b66c8a37"
      },
      "outputs": [],
      "source": [
        "fig, axes = plt.subplots(nrows=3, ncols=3, figsize = (12, 12))\n",
        "\n",
        "counter = 0\n",
        "for i in range(3):\n",
        "    for j in range(3):\n",
        "        axes[i,j].imshow(x_train[counter,...])\n",
        "        axes[i,j].set_title('Real: [%1.1f %1.1f %1.1f %1.1f]' % (y_train[counter,0], y_train[counter, 1], y_train[counter, 2], y_train[counter, 3]))\n",
        "        axes[i,j].axis(False)\n",
        "        counter = counter + 1\n",
        "\n",
        "plt.show()"
      ]
    },
    {
      "cell_type": "code",
      "execution_count": null,
      "metadata": {
        "colab": {
          "base_uri": "https://localhost:8080/",
          "height": 400
        },
        "id": "XbZP2VS1iY9q",
        "outputId": "ec497063-f113-49a6-c072-47fd276f66b9"
      },
      "outputs": [],
      "source": [
        "model = Sequential()\n",
        "model.add(Flatten(input_shape=(32, 32, 3)))\n",
        "model.add(Dense(512, activation = 'relu'))\n",
        "model.add(Dense(512, activation = 'relu'))\n",
        "model.add(Dense(128, activation = 'relu'))\n",
        "model.add(Dense(64,  activation = 'relu'))\n",
        "model.add(Dense(32,  activation = 'relu'))\n",
        "model.add(Dense(4))\n",
        "\n",
        "model.compile(loss='mae', optimizer = 'adam')\n",
        "\n",
        "print(model.summary())"
      ]
    },
    {
      "cell_type": "code",
      "execution_count": null,
      "metadata": {
        "colab": {
          "base_uri": "https://localhost:8080/",
          "height": 1000
        },
        "id": "VYnvj0Mbiliq",
        "outputId": "9fd57b2b-55ab-455d-b170-f4147c1e869f"
      },
      "outputs": [],
      "source": [
        "history = model.fit_generator(\n",
        "    dataset_generator(32),\n",
        "    steps_per_epoch=4000//32,\n",
        "    validation_data=dataset_generator(16),\n",
        "    validation_steps=1000//16,\n",
        "    epochs = 100\n",
        ")"
      ]
    },
    {
      "cell_type": "code",
      "execution_count": null,
      "metadata": {
        "colab": {
          "base_uri": "https://localhost:8080/",
          "height": 425
        },
        "id": "YvmikS6Wir88",
        "outputId": "9586c88c-9422-459f-eddf-8f166cc80edf"
      },
      "outputs": [],
      "source": [
        "fig, ax = plt.subplots(nrows=1, ncols=1, figsize = (15, 6))\n",
        "ax.plot(history.history['loss'], label = 'Training Loss')\n",
        "ax.plot(history.history['val_loss'], label = 'Validation Loss')\n",
        "\n",
        "ax.set_title('Training VS Validation Loss', fontsize = 28)\n",
        "ax.set_xlabel('Epochs', fontsize = 20)\n",
        "ax.set_ylabel('MAE', fontsize = 20)\n",
        "ax.legend(fontsize = 20)\n",
        "\n",
        "plt.show()"
      ]
    },
    {
      "cell_type": "code",
      "execution_count": null,
      "metadata": {
        "id": "yt5mNwRBnwxZ"
      },
      "outputs": [],
      "source": [
        "def round_int(x):\n",
        "  last_Dig = int(str(x).split('.')[1][0]);\n",
        "  n = 0\n",
        "  \n",
        "  if last_Dig >= 5:\n",
        "    n = int(str(x).split('.')[0]) + 1\n",
        "  else:\n",
        "    n = int(str(x).split('.')[0])\n",
        "  \n",
        "  return n\n"
      ]
    },
    {
      "cell_type": "code",
      "execution_count": null,
      "metadata": {
        "id": "Wr531MOUifZ8"
      },
      "outputs": [],
      "source": [
        "def bounding_box(coordinates):\n",
        "  box = np.zeros((32, 32, 3))\n",
        "\n",
        "  x1 = int(round_int(coordinates[0]))\n",
        "  x2 = int(round_int(coordinates[1]))\n",
        "  x3 = int(round_int(coordinates[2]))\n",
        "  x4 = int(round_int(coordinates[3]))\n",
        "\n",
        "  box[x1-1:x3+1, x2-1, 0] = 1\n",
        "  box[x1-1:x3+1, x4, 0] = 1\n",
        "  box[x1-1, x2-1:x4+1, 0] = 1\n",
        "  box[x3, x2-1:x4+1, 0] = 1\n",
        "\n",
        "  return box\n"
      ]
    },
    {
      "cell_type": "code",
      "execution_count": null,
      "metadata": {
        "id": "r__u5PyFj9pH"
      },
      "outputs": [],
      "source": [
        "gen = iter(dataset_generator(16))\n",
        "x_train, y_train = next(gen)\n",
        "pred = model.predict(x_train)"
      ]
    },
    {
      "cell_type": "code",
      "execution_count": null,
      "metadata": {
        "colab": {
          "base_uri": "https://localhost:8080/",
          "height": 863
        },
        "id": "SRQlfp8kiIOF",
        "outputId": "93b8f410-41e4-44d9-d06b-7074e89f8f93"
      },
      "outputs": [],
      "source": [
        "\n",
        "fig, axes = plt.subplots(nrows=3, ncols=3, figsize = (12, 12))\n",
        "\n",
        "counter = 0\n",
        "for i in range(3):\n",
        "    for j in range(3):\n",
        "        b = bounding_box(pred[counter, ...])\n",
        "        axes[i,j].imshow(x_train[counter,...] + b)\n",
        "        axes[i,j].set_title('Real: [%1.1f %1.1f %1.1f %1.1f]\\nPred: [%1.1f %1.1f %1.1f %1.1f]'  \n",
        "                            % (y_train[counter,0], y_train[counter, 1], y_train[counter, 2], y_train[counter, 3]\n",
        "                               , pred[counter,0], pred[counter, 1], pred[counter, 2], pred[counter, 3]))\n",
        "        axes[i,j].axis(False)\n",
        "        counter = counter + 1\n",
        "\n",
        "plt.show()"
      ]
    },
    {
      "cell_type": "code",
      "execution_count": null,
      "metadata": {
        "id": "I0QO6mbYkNFE"
      },
      "outputs": [],
      "source": []
    }
  ],
  "metadata": {
    "colab": {
      "name": "Detection.ipynb",
      "provenance": []
    },
    "kernelspec": {
      "display_name": "Python 3",
      "name": "python3"
    }
  },
  "nbformat": 4,
  "nbformat_minor": 0
}
