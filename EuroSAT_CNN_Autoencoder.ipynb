{
  "cells": [
    {
      "cell_type": "markdown",
      "metadata": {
        "id": "cF9IVw5yaJT3"
      },
      "source": [
        "# Sentinel-2 Autoencoder"
      ]
    },
    {
      "cell_type": "markdown",
      "metadata": {
        "id": "1eWebtPlyyQs"
      },
      "source": [
        "## Download the EuroSAT dataset\n",
        "\n",
        "\n",
        "[EuroSAT dataset](https://github.com/phelber/EuroSAT)\n",
        "![](https://raw.githubusercontent.com/phelber/EuroSAT/master/eurosat_overview_small.jpg)\n"
      ]
    },
    {
      "cell_type": "markdown",
      "metadata": {
        "id": "XMuS6T6QzU3i"
      },
      "source": [
        "Download the dataset"
      ]
    },
    {
      "cell_type": "code",
      "execution_count": null,
      "metadata": {
        "id": "gGytr7JbyMWc"
      },
      "outputs": [],
      "source": [
        "import requests\n",
        "\n",
        "url =  'http://madm.dfki.de/files/sentinel/EuroSAT.zip'\n",
        "r = requests.get(url, allow_redirects=True)\n",
        "open('EuroSAT.zip', 'wb').write(r.content)"
      ]
    },
    {
      "cell_type": "markdown",
      "metadata": {
        "id": "0vdRh1hlzbdE"
      },
      "source": [
        "Unzip the dataset"
      ]
    },
    {
      "cell_type": "code",
      "execution_count": null,
      "metadata": {
        "id": "gwNVhl-BysZO"
      },
      "outputs": [],
      "source": [
        "!unzip '/content/EuroSAT.zip'"
      ]
    },
    {
      "cell_type": "markdown",
      "metadata": {
        "id": "M0O9s4bI1beV"
      },
      "source": [
        "Rename the folder"
      ]
    },
    {
      "cell_type": "code",
      "execution_count": null,
      "metadata": {
        "id": "cbcPnrFDzk5Q"
      },
      "outputs": [],
      "source": [
        "!mv '/content/2750' '/content/EuroSAT'"
      ]
    },
    {
      "cell_type": "markdown",
      "metadata": {
        "id": "F2HSL7WEagL9"
      },
      "source": [
        "Count images in the dataset"
      ]
    },
    {
      "cell_type": "code",
      "execution_count": null,
      "metadata": {
        "id": "Mw2vSKDGaftT"
      },
      "outputs": [],
      "source": [
        "import glob\n",
        "\n",
        "paths = glob.glob('/content/EuroSAT/*/*')\n",
        "print('Number of images {}/27000'.format(len(paths)))"
      ]
    },
    {
      "cell_type": "markdown",
      "metadata": {
        "id": "t6GxK7B3a9cj"
      },
      "source": [
        "## Image Data Generator "
      ]
    },
    {
      "cell_type": "code",
      "execution_count": null,
      "metadata": {
        "id": "TceOwOsa0zii"
      },
      "outputs": [],
      "source": [
        "from tensorflow.keras.preprocessing.image import ImageDataGenerator\n",
        "\n",
        "batch_size = 16\n",
        "\n",
        "train_datagen = ImageDataGenerator(\n",
        "        rescale=1./255,\n",
        "        validation_split=0.2)\n",
        "\n",
        "train_generator = train_datagen.flow_from_directory(\n",
        "    '/content/EuroSAT',  \n",
        "    target_size=(64, 64),  \n",
        "    batch_size=batch_size,\n",
        "    class_mode='input',\n",
        "    subset='training')\n",
        "\n",
        "val_generator = train_datagen.flow_from_directory(\n",
        "    '/content/EuroSAT',  \n",
        "    target_size=(64, 64),  \n",
        "    batch_size=batch_size,\n",
        "    class_mode='input',\n",
        "    subset='validation')  "
      ]
    },
    {
      "cell_type": "code",
      "execution_count": null,
      "metadata": {
        "id": "Vjn9fMdTcBV9"
      },
      "outputs": [],
      "source": [
        "classes = train_generator.class_indices\n",
        "classes= dict(zip(classes.values(), classes.keys()))  \n",
        "print(classes)"
      ]
    },
    {
      "cell_type": "markdown",
      "metadata": {
        "id": "6Vi7ECZPbMAz"
      },
      "source": [
        "Generate some exaples"
      ]
    },
    {
      "cell_type": "code",
      "execution_count": null,
      "metadata": {
        "id": "yXvlrAIVbLas"
      },
      "outputs": [],
      "source": [
        "x,y = next(iter(train_generator))\n",
        "print('x shape {}'.format(x.shape))\n",
        "print('y shape {}'.format(y.shape))"
      ]
    },
    {
      "cell_type": "markdown",
      "metadata": {
        "id": "fw6Ktf0ibCCE"
      },
      "source": [
        "Plot some examples"
      ]
    },
    {
      "cell_type": "code",
      "execution_count": null,
      "metadata": {
        "id": "cvxkJCftbBkB"
      },
      "outputs": [],
      "source": [
        "import matplotlib.pyplot as plt\n",
        "import numpy as np\n",
        "\n",
        "fig, axes = plt.subplots(nrows = 4, ncols = 4, figsize = (16,16))\n",
        "\n",
        "ct = 0\n",
        "for i in range(4):\n",
        "  for j in range(4):\n",
        "    axes[i,j].imshow(x[ct])\n",
        "    axes[i,j].axis(False)\n",
        "    ct += 1\n",
        "\n",
        "fig.tight_layout()\n",
        "plt.show()\n"
      ]
    },
    {
      "cell_type": "markdown",
      "metadata": {
        "id": "L2vZp5NseJUb"
      },
      "source": [
        "## Define the Autoencoder\n"
      ]
    },
    {
      "cell_type": "code",
      "execution_count": null,
      "metadata": {
        "id": "0dZgTiIBwEPx"
      },
      "outputs": [],
      "source": [
        "from re import X\n",
        "from tensorflow.keras.models import Model\n",
        "from tensorflow.keras.layers import Conv2D, MaxPooling2D, Input, UpSampling2D\n",
        "\n",
        "\n",
        "model = None\n",
        "input_img = Input(shape=(64, 64, 3)) \n",
        "\n",
        "x = Conv2D(filters=16, kernel_size=(3, 3), activation='relu', padding='same')(input_img)\n",
        "x = MaxPooling2D(pool_size=(2, 2), padding='same')(x)\n",
        "x = Conv2D(filters=32, kernel_size=(3, 3), activation='relu', padding='same')(x)\n",
        "x = MaxPooling2D(pool_size=(2, 2), padding='same')(x)\n",
        "x = Conv2D(filters=64, kernel_size=(3, 3), activation='relu', padding='same')(x)\n",
        "x = MaxPooling2D(pool_size=(2, 2), padding='same')(x)\n",
        "\n",
        "x = Conv2D(filters=64, kernel_size=(3, 3), activation='relu', padding='same')(x)\n",
        "x = UpSampling2D(size=(2, 2))(x)\n",
        "x = Conv2D(filters=32, kernel_size=(3, 3), activation='relu', padding='same')(x)\n",
        "x = UpSampling2D(size=(2, 2))(x)\n",
        "x = Conv2D(filters=16, kernel_size=(3, 3), activation='relu', padding='same')(x)\n",
        "x = UpSampling2D(size=(2, 2))(x)\n",
        "x = Conv2D(filters=3, kernel_size=(3, 3), activation='sigmoid', padding='same')(x)\n",
        "\n",
        "model = Model(input_img, x)"
      ]
    },
    {
      "cell_type": "markdown",
      "metadata": {
        "id": "u_72ZdIDgdUX"
      },
      "source": [
        "Compile the model"
      ]
    },
    {
      "cell_type": "code",
      "execution_count": null,
      "metadata": {
        "id": "oeAQh00QgdrW"
      },
      "outputs": [],
      "source": [
        "from tensorflow.keras.optimizers import Adam, SGD\n",
        "\n",
        "model.compile(loss='mse', optimizer=Adam(), metrics=['mae'])"
      ]
    },
    {
      "cell_type": "markdown",
      "metadata": {
        "id": "cjubqFOWfCNK"
      },
      "source": [
        "Print model configuration"
      ]
    },
    {
      "cell_type": "code",
      "execution_count": null,
      "metadata": {
        "colab": {
          "base_uri": "https://localhost:8080/"
        },
        "id": "x0jnhaN9wEAp",
        "outputId": "92134211-7fcf-4ac1-92f9-7e98331b03b5"
      },
      "outputs": [],
      "source": [
        "model.summary()"
      ]
    },
    {
      "cell_type": "markdown",
      "metadata": {
        "id": "mHWWXVXtgWUm"
      },
      "source": [
        "## Train the autoencoder"
      ]
    },
    {
      "cell_type": "code",
      "execution_count": null,
      "metadata": {
        "id": "4CkhxnMQe4pI"
      },
      "outputs": [],
      "source": [
        "history = model.fit(\n",
        "    train_generator,\n",
        "    steps_per_epoch = train_generator.n//batch_size,\n",
        "    validation_data = val_generator,\n",
        "    validation_steps = val_generator.n//batch_size,\n",
        "    epochs = 15\n",
        ")"
      ]
    },
    {
      "cell_type": "markdown",
      "metadata": {
        "id": "a9JFokLtnUWh"
      },
      "source": [
        "Plot training history"
      ]
    },
    {
      "cell_type": "code",
      "execution_count": null,
      "metadata": {
        "id": "P1fIwSAkh9r8"
      },
      "outputs": [],
      "source": [
        "fig, axes = plt.subplots(nrows = 1, ncols = 2, figsize = (10,5))\n",
        "\n",
        "axes[0].plot(history.history['loss'], '-*', label = 'Training')\n",
        "axes[0].plot(history.history['val_loss'], '-o', label = 'Validtion')\n",
        "axes[0].set_ylabel('Mean Squared Error')\n",
        "axes[0].set_xlabel('Epochs')\n",
        "axes[0].set_title('Model MSE over epochs')\n",
        "\n",
        "axes[1].plot(history.history['mae'], '-*', label = 'Training')\n",
        "axes[1].plot(history.history['val_mae'], '-o', label = 'Validtion')\n",
        "axes[1].set_ylabel('Mean Absolute Error')\n",
        "axes[1].set_xlabel('Epochs')\n",
        "axes[1].set_title('Model MAE over epochs')\n",
        "\n",
        "fig.tight_layout()\n",
        "plt.show()"
      ]
    },
    {
      "cell_type": "markdown",
      "metadata": {
        "id": "BJbBclnjqQqf"
      },
      "source": [
        "## Evaluate Results"
      ]
    },
    {
      "cell_type": "code",
      "execution_count": null,
      "metadata": {
        "id": "aRXmFO9Xp6mo"
      },
      "outputs": [],
      "source": [
        "x, y = next(iter(val_generator))\n",
        "y_pred = model.predict(x)"
      ]
    },
    {
      "cell_type": "code",
      "execution_count": null,
      "metadata": {
        "id": "YPrrQWgzuDhD"
      },
      "outputs": [],
      "source": [
        "for i in range(batch_size):\n",
        "  print('\\t --------------------------- Batch {} ---------------------------'.format(i))\n",
        "\n",
        "  fig, axes = plt.subplots(nrows = 1, ncols = 2, figsize = (10,5))\n",
        "  axes[0].imshow(x[i])\n",
        "  axes[0].axis(False)\n",
        "  axes[0].set_title('Sentinel-2\\n (Input)')\n",
        "\n",
        "  axes[1].imshow(y_pred[i])\n",
        "  axes[1].axis(False)\n",
        "  axes[1].set_title('Sentinel-2\\n (Autoencoder)')\n",
        "\n",
        "  fig.tight_layout()\n",
        "  plt.show()\n",
        "  plt.close()"
      ]
    },
    {
      "cell_type": "markdown",
      "metadata": {
        "id": "3bqAeKy1obCU"
      },
      "source": [
        "## Get access to features"
      ]
    },
    {
      "cell_type": "code",
      "execution_count": null,
      "metadata": {
        "id": "jnz52DeVnwjT"
      },
      "outputs": [],
      "source": [
        "encoder = Model(inputs=model.input, outputs=model.layers[6].output)\n",
        "decoder = Model(inputs=model.layers[7].input, outputs=model.output)"
      ]
    },
    {
      "cell_type": "code",
      "execution_count": null,
      "metadata": {
        "id": "nZpbC6VypEDT"
      },
      "outputs": [],
      "source": [
        "y_encoder = encoder.predict(x)"
      ]
    },
    {
      "cell_type": "code",
      "execution_count": null,
      "metadata": {
        "colab": {
          "base_uri": "https://localhost:8080/",
          "height": 1000
        },
        "id": "zZnx_lsvpJzt",
        "outputId": "21eb159d-5dac-48d9-b1ba-0c02d98da406"
      },
      "outputs": [],
      "source": [
        "for i in range(batch_size):\n",
        "  print('\\t\\t\\t\\t\\t\\t\\t --------------------------- Batch {} --------------------------- \\n'.format(i))\n",
        "\n",
        "  fig, axes = plt.subplots(nrows = 1, ncols = 10, figsize = (30,3))\n",
        "  axes[0].imshow(x[i])\n",
        "  axes[0].axis(False)\n",
        "  axes[0].set_title('Sentinel-2\\n (Input)')\n",
        "\n",
        "  for k in range(1,10):\n",
        "    axes[k].imshow(y_encoder[i,:,:,k])\n",
        "    axes[k].axis(False)\n",
        "    axes[k].set_title('Sentinel-2\\n (Encoder F-{})'.format(k))\n",
        "\n",
        "  fig.tight_layout()\n",
        "  plt.show()\n",
        "  plt.close()"
      ]
    },
    {
      "cell_type": "markdown",
      "metadata": {
        "id": "4QKbfAr9rLLz"
      },
      "source": [
        "Add noise"
      ]
    },
    {
      "cell_type": "code",
      "execution_count": null,
      "metadata": {
        "id": "M3R3cUvwrMxK"
      },
      "outputs": [],
      "source": [
        "#y_encoder_noisy = y_encoder + np.random.rand(y_encoder.shape[0], y_encoder.shape[1], y_encoder.shape[2], y_encoder.shape[3])\n",
        "y_encoder_noisy = (y_encoder + 1)/0.3\n",
        "y_encoder_denoisy = (y_encoder_noisy*0.3) - 1"
      ]
    },
    {
      "cell_type": "code",
      "execution_count": null,
      "metadata": {
        "id": "Q7-LItxsraS_"
      },
      "outputs": [],
      "source": [
        "y_decoder_noisy = decoder.predict(y_encoder_noisy)\n",
        "y_decoder = decoder.predict(y_encoder)\n",
        "y_decoder_denoisy = decoder.predict(y_encoder_denoisy)"
      ]
    },
    {
      "cell_type": "code",
      "execution_count": null,
      "metadata": {
        "colab": {
          "base_uri": "https://localhost:8080/",
          "height": 1000
        },
        "id": "_INTarFMriwj",
        "outputId": "9c094939-b731-480f-809a-6148065f5420"
      },
      "outputs": [],
      "source": [
        "for i in range(batch_size):\n",
        "  print('\\t\\t\\t\\t\\t\\t --------------------------- Batch {} --------------------------- \\n'.format(i))\n",
        "\n",
        "  fig, axes = plt.subplots(nrows = 1, ncols = 4, figsize = (20,5))\n",
        "  axes[0].imshow(x[i])\n",
        "  axes[0].axis(False)\n",
        "  axes[0].set_title('Sentinel-2\\n (Input)')\n",
        "\n",
        "  axes[1].imshow(y_decoder[i])\n",
        "  axes[1].axis(False)\n",
        "  axes[1].set_title('Sentinel-2\\n (Decoder)')\n",
        "\n",
        "  axes[2].imshow(y_decoder_noisy[i])\n",
        "  axes[2].axis(False)\n",
        "  axes[2].set_title('Sentinel-2\\n (Decoder Noisy)')\n",
        "\n",
        "  axes[3].imshow(y_decoder_denoisy[i])\n",
        "  axes[3].axis(False)\n",
        "  axes[3].set_title('Sentinel-2\\n (Decoder Denoised)')\n",
        "\n",
        "  fig.tight_layout()\n",
        "  plt.show()\n",
        "  plt.close()"
      ]
    },
    {
      "cell_type": "code",
      "execution_count": null,
      "metadata": {
        "id": "gOZwUONXrxbi"
      },
      "outputs": [],
      "source": []
    }
  ],
  "metadata": {
    "accelerator": "GPU",
    "colab": {
      "collapsed_sections": [],
      "name": "EuroSAT-CNN-Autoencoder.ipynb",
      "provenance": []
    },
    "kernelspec": {
      "display_name": "Python 3",
      "name": "python3"
    },
    "language_info": {
      "name": "python"
    }
  },
  "nbformat": 4,
  "nbformat_minor": 0
}
