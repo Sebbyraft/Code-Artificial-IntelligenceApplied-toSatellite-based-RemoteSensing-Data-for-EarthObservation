{
  "cells": [
    {
      "cell_type": "markdown",
      "metadata": {
        "id": "cF9IVw5yaJT3"
      },
      "source": [
        "# Sentinel-2 multiclass classification using Convolutional Neural Network"
      ]
    },
    {
      "cell_type": "code",
      "execution_count": null,
      "metadata": {
        "colab": {
          "base_uri": "https://localhost:8080/"
        },
        "id": "Ek8T0hC0yigY",
        "outputId": "26680688-701d-4e99-b65b-c51c225408c4"
      },
      "outputs": [],
      "source": [
        "!pip install catboost"
      ]
    },
    {
      "cell_type": "markdown",
      "metadata": {
        "id": "1eWebtPlyyQs"
      },
      "source": [
        "## Download the EuroSAT dataset\n",
        "\n",
        "\n",
        "[EuroSAT dataset](https://github.com/phelber/EuroSAT)\n",
        "![](https://raw.githubusercontent.com/phelber/EuroSAT/master/eurosat_overview_small.jpg)\n"
      ]
    },
    {
      "cell_type": "markdown",
      "metadata": {
        "id": "XMuS6T6QzU3i"
      },
      "source": [
        "Download the dataset"
      ]
    },
    {
      "cell_type": "code",
      "execution_count": null,
      "metadata": {
        "colab": {
          "base_uri": "https://localhost:8080/"
        },
        "id": "gGytr7JbyMWc",
        "outputId": "bacaf140-d9cd-4a81-bf70-8e2d54e1f72d"
      },
      "outputs": [],
      "source": [
        "import requests\n",
        "\n",
        "url =  'http://madm.dfki.de/files/sentinel/EuroSAT.zip'\n",
        "r = requests.get(url, allow_redirects=True)\n",
        "open('EuroSAT.zip', 'wb').write(r.content)"
      ]
    },
    {
      "cell_type": "markdown",
      "metadata": {
        "id": "0vdRh1hlzbdE"
      },
      "source": [
        "Unzip the dataset"
      ]
    },
    {
      "cell_type": "code",
      "execution_count": null,
      "metadata": {
        "colab": {
          "base_uri": "https://localhost:8080/"
        },
        "id": "gwNVhl-BysZO",
        "outputId": "0b9b7be1-10a4-4908-dde3-96f555ad7df9"
      },
      "outputs": [],
      "source": [
        "!unzip '/content/EuroSAT.zip'"
      ]
    },
    {
      "cell_type": "markdown",
      "metadata": {
        "id": "M0O9s4bI1beV"
      },
      "source": [
        "Rename the folder"
      ]
    },
    {
      "cell_type": "code",
      "execution_count": null,
      "metadata": {
        "id": "cbcPnrFDzk5Q"
      },
      "outputs": [],
      "source": [
        "!mv '/content/2750' '/content/EuroSAT'"
      ]
    },
    {
      "cell_type": "markdown",
      "metadata": {
        "id": "F2HSL7WEagL9"
      },
      "source": [
        "Count images in the dataset"
      ]
    },
    {
      "cell_type": "code",
      "execution_count": null,
      "metadata": {
        "colab": {
          "base_uri": "https://localhost:8080/"
        },
        "id": "Mw2vSKDGaftT",
        "outputId": "1ad9ba57-65ad-42cd-b7fa-27b156338c42"
      },
      "outputs": [],
      "source": [
        "import glob\n",
        "\n",
        "paths = glob.glob('/content/EuroSAT/*/*')\n",
        "print('Number of images {}/27000'.format(len(paths)))"
      ]
    },
    {
      "cell_type": "markdown",
      "metadata": {
        "id": "t6GxK7B3a9cj"
      },
      "source": [
        "## Image Data Generator "
      ]
    },
    {
      "cell_type": "code",
      "execution_count": null,
      "metadata": {
        "colab": {
          "base_uri": "https://localhost:8080/"
        },
        "id": "TceOwOsa0zii",
        "outputId": "63be44e9-82c4-4d0e-d26f-8cc94017572d"
      },
      "outputs": [],
      "source": [
        "from tensorflow.keras.preprocessing.image import ImageDataGenerator\n",
        "\n",
        "batch_size = 16\n",
        "\n",
        "train_datagen = ImageDataGenerator(\n",
        "        rescale=1./255,\n",
        "        validation_split=0.2)\n",
        "      \n",
        "train_generator = train_datagen.flow_from_directory(\n",
        "    '/content/EuroSAT',  \n",
        "    target_size=(10,10),  \n",
        "    batch_size=batch_size,\n",
        "    class_mode='categorical',\n",
        "    subset='training')\n",
        "\n",
        "val_generator = train_datagen.flow_from_directory(\n",
        "    '/content/EuroSAT',  \n",
        "    target_size=(10,10),\n",
        "    batch_size=batch_size,\n",
        "    class_mode='categorical',\n",
        "    subset='validation')  "
      ]
    },
    {
      "cell_type": "code",
      "execution_count": null,
      "metadata": {
        "colab": {
          "base_uri": "https://localhost:8080/"
        },
        "id": "Vjn9fMdTcBV9",
        "outputId": "8a6f7114-7c72-40e9-dfb9-7cf4c522c34d"
      },
      "outputs": [],
      "source": [
        "classes = train_generator.class_indices\n",
        "classes= dict(zip(classes.values(), classes.keys()))  \n",
        "print(classes)"
      ]
    },
    {
      "cell_type": "markdown",
      "metadata": {
        "id": "6Vi7ECZPbMAz"
      },
      "source": [
        "Generate some exaples"
      ]
    },
    {
      "cell_type": "code",
      "execution_count": null,
      "metadata": {
        "colab": {
          "base_uri": "https://localhost:8080/"
        },
        "id": "yXvlrAIVbLas",
        "outputId": "0e281d42-6e8b-4495-9ec3-ff8e5c91fa79"
      },
      "outputs": [],
      "source": [
        "x,y = next(iter(train_generator))\n",
        "print('x shape {}'.format(x.shape))\n",
        "print('y shape {}'.format(y.shape))"
      ]
    },
    {
      "cell_type": "markdown",
      "metadata": {
        "id": "fw6Ktf0ibCCE"
      },
      "source": [
        "Plot some examples"
      ]
    },
    {
      "cell_type": "code",
      "execution_count": null,
      "metadata": {
        "colab": {
          "base_uri": "https://localhost:8080/",
          "height": 1000
        },
        "id": "cvxkJCftbBkB",
        "outputId": "7b3a75e3-2935-4197-ebfb-f6eac812cd1c"
      },
      "outputs": [],
      "source": [
        "import matplotlib.pyplot as plt\n",
        "import numpy as np\n",
        "\n",
        "fig, axes = plt.subplots(nrows = 4, ncols = 4, figsize = (16,16))\n",
        "\n",
        "ct = 0\n",
        "for i in range(4):\n",
        "  for j in range(4):\n",
        "    axes[i,j].imshow(x[ct])\n",
        "    axes[i,j].set_title('Label {} \\n Class {}'.format(y[ct], classes[np.argmax(y[ct])]))\n",
        "    axes[i,j].axis(False)\n",
        "    ct += 1\n",
        "\n",
        "fig.tight_layout()\n",
        "plt.show()\n"
      ]
    },
    {
      "cell_type": "markdown",
      "metadata": {
        "id": "L2vZp5NseJUb"
      },
      "source": [
        "## Define the Machine Learning model\n",
        "\n",
        "We will use the CatBoost ([Find out more](https://catboost.ai/en/docs/))"
      ]
    },
    {
      "cell_type": "code",
      "execution_count": null,
      "metadata": {
        "id": "0dZgTiIBwEPx"
      },
      "outputs": [],
      "source": [
        "from catboost import CatBoostClassifier\n",
        "\n",
        "model = CatBoostClassifier(iterations=5000,\n",
        "                          learning_rate=0.02,\n",
        "                          max_depth=4,\n",
        "                          loss_function='MultiClass',\n",
        "                          eval_metric='Accuracy',\n",
        "                          early_stopping_rounds = 30,\n",
        "                          verbose = 50)"
      ]
    },
    {
      "cell_type": "markdown",
      "metadata": {
        "id": "mHWWXVXtgWUm"
      },
      "source": [
        "## Train the CatBoostClassifier"
      ]
    },
    {
      "cell_type": "code",
      "execution_count": null,
      "metadata": {
        "colab": {
          "base_uri": "https://localhost:8080/"
        },
        "id": "4CkhxnMQe4pI",
        "outputId": "2129d320-81a2-48f3-ace4-cb6cebcb8a37"
      },
      "outputs": [],
      "source": [
        "train_generator = train_datagen.flow_from_directory(\n",
        "    '/content/EuroSAT',  \n",
        "    target_size=(10, 10),  \n",
        "    batch_size=train_generator.n,\n",
        "    class_mode='categorical',\n",
        "    subset='training')\n",
        "\n",
        "val_generator = train_datagen.flow_from_directory(\n",
        "    '/content/EuroSAT',  \n",
        "    target_size=(10, 10),\n",
        "    batch_size=val_generator.n,\n",
        "    class_mode='categorical',\n",
        "    subset='validation')  \n",
        "\n",
        "\n",
        "x_train,y_train = next(iter(train_generator))\n",
        "x_val, y_val = next(iter(train_generator))"
      ]
    },
    {
      "cell_type": "code",
      "execution_count": null,
      "metadata": {
        "id": "kyaMgE1L3O-O"
      },
      "outputs": [],
      "source": [
        "from catboost import Pool\n",
        "\n",
        "y_train = np.argmax(y_train, axis=1)\n",
        "y_val = np.argmax(y_val, axis=1)\n",
        "\n",
        "train_pol = Pool(x_train.reshape((x_train.shape[0], x_train.shape[1]*x_train.shape[2]*x_train.shape[3])),y_train)\n",
        "val_pol = Pool(x_val.reshape((x_val.shape[0], x_val.shape[1]*x_val.shape[2]*x_val.shape[3])), y_val)"
      ]
    },
    {
      "cell_type": "code",
      "execution_count": null,
      "metadata": {
        "colab": {
          "base_uri": "https://localhost:8080/"
        },
        "id": "Ax3IaVhM1GT6",
        "outputId": "00c4cbe4-ef26-403a-d5c6-a3262526db99"
      },
      "outputs": [],
      "source": [
        "model.fit(train_pol, eval_set=val_pol)"
      ]
    },
    {
      "cell_type": "markdown",
      "metadata": {
        "id": "BJbBclnjqQqf"
      },
      "source": [
        "## Evaluate Performances"
      ]
    },
    {
      "cell_type": "code",
      "execution_count": null,
      "metadata": {
        "id": "aRXmFO9Xp6mo"
      },
      "outputs": [],
      "source": [
        "y_pred = model.predict(x_val.reshape((x_val.shape[0], x_val.shape[1]*x_val.shape[2]*x_val.shape[3])))"
      ]
    },
    {
      "cell_type": "markdown",
      "metadata": {
        "id": "oNcC8go3voyJ"
      },
      "source": [
        "Compute confusion matrix"
      ]
    },
    {
      "cell_type": "code",
      "execution_count": null,
      "metadata": {
        "id": "PFcbKJ-YvIKO"
      },
      "outputs": [],
      "source": [
        "from sklearn.metrics import confusion_matrix\n",
        "\n",
        "cm = confusion_matrix(y_val, y_pred, normalize='true')"
      ]
    },
    {
      "cell_type": "markdown",
      "metadata": {
        "id": "daLKAZCuvqjE"
      },
      "source": [
        "Plot confusion matrix"
      ]
    },
    {
      "cell_type": "code",
      "execution_count": null,
      "metadata": {
        "colab": {
          "base_uri": "https://localhost:8080/",
          "height": 600
        },
        "id": "reUAhIUAtY47",
        "outputId": "56873739-d76c-4170-cee0-e00688142213"
      },
      "outputs": [],
      "source": [
        "from sklearn.metrics import ConfusionMatrixDisplay\n",
        "\n",
        "fig, ax = plt.subplots(nrows = 1, ncols = 1, figsize = (10,8))\n",
        "disp = ConfusionMatrixDisplay(confusion_matrix=cm, display_labels=classes.values())\n",
        "disp.plot(ax=ax, cmap=plt.cm.Blues, xticks_rotation='vertical')\n",
        "plt.show()"
      ]
    },
    {
      "cell_type": "markdown",
      "metadata": {
        "id": "4HidOfw1vsvC"
      },
      "source": [
        "Compute classification report"
      ]
    },
    {
      "cell_type": "code",
      "execution_count": null,
      "metadata": {
        "colab": {
          "base_uri": "https://localhost:8080/"
        },
        "id": "pQHV7veYt3U8",
        "outputId": "34e1dff1-e2ee-4653-cb40-f830740080cb"
      },
      "outputs": [],
      "source": [
        "from sklearn.metrics import classification_report\n",
        "print(classification_report(y_val, y_pred, target_names=classes.values()))"
      ]
    },
    {
      "cell_type": "code",
      "execution_count": null,
      "metadata": {
        "id": "YPrrQWgzuDhD"
      },
      "outputs": [],
      "source": []
    }
  ],
  "metadata": {
    "colab": {
      "collapsed_sections": [],
      "name": "EuroSAT-ML-Classification.ipynb",
      "provenance": []
    },
    "kernelspec": {
      "display_name": "Python 3",
      "name": "python3"
    },
    "language_info": {
      "name": "python"
    }
  },
  "nbformat": 4,
  "nbformat_minor": 0
}
